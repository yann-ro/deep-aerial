{
 "cells": [
  {
   "cell_type": "code",
   "execution_count": null,
   "metadata": {},
   "outputs": [],
   "source": [
    "%%shell\n",
    "git clone https://github.com/yann-ro/deep-aerial.git\n",
    "./deep-aerial/dataset/setup/setup_swimming.sh"
   ]
  },
  {
   "cell_type": "code",
   "execution_count": null,
   "metadata": {},
   "outputs": [],
   "source": [
    "%load_ext autoreload\n",
    "%autoreload 2\n",
    "\n",
    "import torch\n",
    "from torchvision import transforms\n",
    "import sys\n",
    "sys.path.append(\"deep-aerial\")\n",
    "\n",
    "from dataset.core import InstCOCODataset\n",
    "\n",
    "train_data_dir = 'data/swimmingPool/training/images'\n",
    "train_coco = 'data/swimmingPool/training/labels.json'"
   ]
  },
  {
   "cell_type": "code",
   "execution_count": null,
   "metadata": {},
   "outputs": [],
   "source": [
    "def collate_fn(batch):\n",
    "    return tuple(zip(*batch))"
   ]
  },
  {
   "cell_type": "code",
   "execution_count": null,
   "metadata": {},
   "outputs": [],
   "source": [
    "tfm = transforms.Compose(\n",
    "    [\n",
    "        transforms.ToTensor(),\n",
    "    ]\n",
    ")\n",
    "\n",
    "swim_dataset = InstCOCODataset(\n",
    "    root = train_data_dir,\n",
    "    annotation = train_coco,\n",
    "    transforms = tfm\n",
    ")\n",
    "\n",
    "train_batch_size = 2\n",
    "\n",
    "data_loader = torch.utils.data.DataLoader(\n",
    "    swim_dataset,\n",
    "    batch_size = train_batch_size,\n",
    "    shuffle = True, \n",
    "    num_workers = 2,\n",
    "    collate_fn = collate_fn\n",
    ")"
   ]
  }
 ],
 "metadata": {
  "kernelspec": {
   "display_name": "Python 3",
   "language": "python",
   "name": "python3"
  },
  "language_info": {
   "name": "python",
   "version": "3.7.9"
  },
  "orig_nbformat": 4,
  "vscode": {
   "interpreter": {
    "hash": "949777d72b0d2535278d3dc13498b2535136f6dfe0678499012e853ee9abcab1"
   }
  }
 },
 "nbformat": 4,
 "nbformat_minor": 2
}
